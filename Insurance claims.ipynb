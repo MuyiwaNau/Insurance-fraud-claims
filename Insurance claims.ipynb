{
 "cells": [
  {
   "cell_type": "code",
   "execution_count": 1,
   "id": "34245229",
   "metadata": {
    "scrolled": true
   },
   "outputs": [],
   "source": [
    "# This Python 3 environment comes with many helpful analytics libraries installed\n",
    "# For example, here's several helpful packages to load"
   ]
  },
  {
   "cell_type": "code",
   "execution_count": 2,
   "id": "43cf59c8",
   "metadata": {},
   "outputs": [],
   "source": [
    "import numpy as np # linear algebra\n",
    "import pandas as pd # data processing, CSV file I/O (e.g. pd.read_csv)\n",
    "import os\n",
    "import matplotlib.pyplot as plt\n",
    "import seaborn as sns\n",
    "from sklearn.model_selection import train_test_split\n",
    "from sklearn.linear_model import LinearRegression\n",
    "from sklearn.metrics import mean_absolute_error, r2_score"
   ]
  },
  {
   "cell_type": "code",
   "execution_count": 3,
   "id": "c59201d9",
   "metadata": {},
   "outputs": [],
   "source": [
    "pd.set_option(\"display.max_columns\", None)\n",
    "pd.set_option(\"display.max_rows\", None)"
   ]
  },
  {
   "cell_type": "code",
   "execution_count": 4,
   "id": "dd71eb7d",
   "metadata": {},
   "outputs": [
    {
     "name": "stdout",
     "output_type": "stream",
     "text": [
      "C:\\Users\\muski\\Desktop\\NewProject\\Data\\employee_data.csv\n",
      "C:\\Users\\muski\\Desktop\\NewProject\\Data\\Fraud detection.twb\n",
      "C:\\Users\\muski\\Desktop\\NewProject\\Data\\Insurance claims.ipynb\n",
      "C:\\Users\\muski\\Desktop\\NewProject\\Data\\insurance_data.csv\n",
      "C:\\Users\\muski\\Desktop\\NewProject\\Data\\vendor_data.csv\n",
      "C:\\Users\\muski\\Desktop\\NewProject\\Data\\~Fraud detection__30904.twbr\n",
      "C:\\Users\\muski\\Desktop\\NewProject\\Data\\.ipynb_checkpoints\\Insurance claims-checkpoint.ipynb\n"
     ]
    }
   ],
   "source": [
    "import os\n",
    "\n",
    "directory = r'C:\\Users\\muski\\Desktop\\NewProject\\Data'\n",
    "\n",
    "for dirname, _, filenames in os.walk(directory):\n",
    "    for filename in filenames:\n",
    "        print(os.path.join(dirname, filename))\n"
   ]
  },
  {
   "cell_type": "code",
   "execution_count": 5,
   "id": "c6b8568f",
   "metadata": {},
   "outputs": [],
   "source": [
    "\n",
    "vendor_data = pd.read_csv(r'C:\\Users\\muski\\Desktop\\NewProject\\Data\\vendor_data.csv')\n",
    "insurance_data = pd.read_csv(r'C:\\Users\\muski\\Desktop\\NewProject\\Data\\insurance_data.csv')\n",
    "employee_data = pd.read_csv(r'C:\\Users\\muski\\Desktop\\NewProject\\Data\\employee_data.csv')\n"
   ]
  },
  {
   "cell_type": "code",
   "execution_count": 6,
   "id": "534107c5",
   "metadata": {
    "scrolled": true
   },
   "outputs": [
    {
     "data": {
      "text/html": [
       "<div>\n",
       "<style scoped>\n",
       "    .dataframe tbody tr th:only-of-type {\n",
       "        vertical-align: middle;\n",
       "    }\n",
       "\n",
       "    .dataframe tbody tr th {\n",
       "        vertical-align: top;\n",
       "    }\n",
       "\n",
       "    .dataframe thead th {\n",
       "        text-align: right;\n",
       "    }\n",
       "</style>\n",
       "<table border=\"1\" class=\"dataframe\">\n",
       "  <thead>\n",
       "    <tr style=\"text-align: right;\">\n",
       "      <th></th>\n",
       "      <th>AGENT_ID</th>\n",
       "      <th>AGENT_NAME</th>\n",
       "      <th>DATE_OF_JOINING</th>\n",
       "      <th>ADDRESS_LINE1</th>\n",
       "      <th>CITY</th>\n",
       "      <th>STATE</th>\n",
       "      <th>POSTAL_CODE</th>\n",
       "      <th>EMP_ROUTING_NUMBER</th>\n",
       "      <th>EMP_ACCT_NUMBER</th>\n",
       "    </tr>\n",
       "  </thead>\n",
       "  <tbody>\n",
       "    <tr>\n",
       "      <th>0</th>\n",
       "      <td>AGENT00001</td>\n",
       "      <td>Ray Johns</td>\n",
       "      <td>05/06/1993</td>\n",
       "      <td>1402 Maggies Way</td>\n",
       "      <td>Waterbury Center</td>\n",
       "      <td>VT</td>\n",
       "      <td>5677</td>\n",
       "      <td>34584958</td>\n",
       "      <td>HKUN51252328472585</td>\n",
       "    </tr>\n",
       "    <tr>\n",
       "      <th>1</th>\n",
       "      <td>AGENT00002</td>\n",
       "      <td>Angelo Borjon</td>\n",
       "      <td>27/12/2005</td>\n",
       "      <td>414 Tanya Pass</td>\n",
       "      <td>Panama City</td>\n",
       "      <td>FL</td>\n",
       "      <td>32404</td>\n",
       "      <td>107363763</td>\n",
       "      <td>OPIS19290040088204</td>\n",
       "    </tr>\n",
       "    <tr>\n",
       "      <th>2</th>\n",
       "      <td>AGENT00003</td>\n",
       "      <td>Candy Spellman</td>\n",
       "      <td>02/09/2003</td>\n",
       "      <td>606 National Street</td>\n",
       "      <td>Fayetteville</td>\n",
       "      <td>AR</td>\n",
       "      <td>72701</td>\n",
       "      <td>81744097</td>\n",
       "      <td>YSCJ67489688482590</td>\n",
       "    </tr>\n",
       "    <tr>\n",
       "      <th>3</th>\n",
       "      <td>AGENT00004</td>\n",
       "      <td>Mary Smith</td>\n",
       "      <td>23/09/2004</td>\n",
       "      <td>235 Hugh Thomas Drive</td>\n",
       "      <td>Panama City</td>\n",
       "      <td>FL</td>\n",
       "      <td>32404</td>\n",
       "      <td>67563771</td>\n",
       "      <td>ZANG21285355574581</td>\n",
       "    </tr>\n",
       "    <tr>\n",
       "      <th>4</th>\n",
       "      <td>AGENT00005</td>\n",
       "      <td>Mildred Diaz</td>\n",
       "      <td>21/06/2011</td>\n",
       "      <td>3426 Broadview Street</td>\n",
       "      <td>Montgomery</td>\n",
       "      <td>AL</td>\n",
       "      <td>36110</td>\n",
       "      <td>114951317</td>\n",
       "      <td>DZFS82244494451134</td>\n",
       "    </tr>\n",
       "  </tbody>\n",
       "</table>\n",
       "</div>"
      ],
      "text/plain": [
       "     AGENT_ID      AGENT_NAME DATE_OF_JOINING          ADDRESS_LINE1  \\\n",
       "0  AGENT00001       Ray Johns      05/06/1993       1402 Maggies Way   \n",
       "1  AGENT00002   Angelo Borjon      27/12/2005         414 Tanya Pass   \n",
       "2  AGENT00003  Candy Spellman      02/09/2003    606 National Street   \n",
       "3  AGENT00004      Mary Smith      23/09/2004  235 Hugh Thomas Drive   \n",
       "4  AGENT00005    Mildred Diaz      21/06/2011  3426 Broadview Street   \n",
       "\n",
       "               CITY STATE  POSTAL_CODE  EMP_ROUTING_NUMBER     EMP_ACCT_NUMBER  \n",
       "0  Waterbury Center    VT         5677            34584958  HKUN51252328472585  \n",
       "1       Panama City    FL        32404           107363763  OPIS19290040088204  \n",
       "2      Fayetteville    AR        72701            81744097  YSCJ67489688482590  \n",
       "3       Panama City    FL        32404            67563771  ZANG21285355574581  \n",
       "4        Montgomery    AL        36110           114951317  DZFS82244494451134  "
      ]
     },
     "execution_count": 6,
     "metadata": {},
     "output_type": "execute_result"
    }
   ],
   "source": [
    "vendor_data.head()\n",
    "insurance_data.head()\n",
    "employee_data.head()\n"
   ]
  },
  {
   "cell_type": "code",
   "execution_count": 7,
   "id": "a5aa4f65",
   "metadata": {},
   "outputs": [],
   "source": [
    "# TASK 1"
   ]
  },
  {
   "cell_type": "code",
   "execution_count": 8,
   "id": "aed48a00",
   "metadata": {},
   "outputs": [],
   "source": [
    "# Merge the 3 dataset and create 1 view of data. \n",
    "# You can merge insurance_data.csv and employee_data.csv on AGENT_ID \n",
    "# You can merge insurance_data.csv and vendor_data.csv on VENDOR_ID Note: \n",
    "# Use left Outer join as not all claims require Vendor"
   ]
  },
  {
   "cell_type": "code",
   "execution_count": 9,
   "id": "811d014d",
   "metadata": {},
   "outputs": [],
   "source": [
    "emp_ins_data=pd.merge(employee_data, insurance_data, on=\"AGENT_ID\")\n",
    "emp_ins_ven_data=pd.merge(emp_ins_data, vendor_data, on=\"VENDOR_ID\")\n",
    "df=pd.merge(emp_ins_data, vendor_data, on=\"VENDOR_ID\",how='left')"
   ]
  },
  {
   "cell_type": "code",
   "execution_count": 10,
   "id": "e8eaff34",
   "metadata": {},
   "outputs": [
    {
     "data": {
      "text/plain": [
       "50"
      ]
     },
     "execution_count": 10,
     "metadata": {},
     "output_type": "execute_result"
    }
   ],
   "source": [
    "len(emp_ins_ven_data.columns)"
   ]
  },
  {
   "cell_type": "code",
   "execution_count": 11,
   "id": "a96dcd91",
   "metadata": {},
   "outputs": [],
   "source": [
    "# Task 2"
   ]
  },
  {
   "cell_type": "code",
   "execution_count": 12,
   "id": "92d6d569",
   "metadata": {},
   "outputs": [],
   "source": [
    "# Top 3 Insurance Type where we are getting most insurance claims"
   ]
  },
  {
   "cell_type": "code",
   "execution_count": 13,
   "id": "94d2b257",
   "metadata": {},
   "outputs": [],
   "source": [
    "def barplot(x, y, data, title, color):\n",
    "    plt.figure(figsize= (10, 8))\n",
    "    plt.title(title)\n",
    "    sns.barplot(x= x, y= y, data= data, palette= color)\n",
    "    plt.show()"
   ]
  },
  {
   "cell_type": "code",
   "execution_count": 14,
   "id": "c0019b63",
   "metadata": {
    "scrolled": true
   },
   "outputs": [
    {
     "data": {
      "text/html": [
       "<div>\n",
       "<style scoped>\n",
       "    .dataframe tbody tr th:only-of-type {\n",
       "        vertical-align: middle;\n",
       "    }\n",
       "\n",
       "    .dataframe tbody tr th {\n",
       "        vertical-align: top;\n",
       "    }\n",
       "\n",
       "    .dataframe thead th {\n",
       "        text-align: right;\n",
       "    }\n",
       "</style>\n",
       "<table border=\"1\" class=\"dataframe\">\n",
       "  <thead>\n",
       "    <tr style=\"text-align: right;\">\n",
       "      <th></th>\n",
       "      <th>COUNT</th>\n",
       "      <th>INSURANCE_TYPE</th>\n",
       "    </tr>\n",
       "  </thead>\n",
       "  <tbody>\n",
       "    <tr>\n",
       "      <th>0</th>\n",
       "      <td>1692</td>\n",
       "      <td>Property</td>\n",
       "    </tr>\n",
       "    <tr>\n",
       "      <th>1</th>\n",
       "      <td>1692</td>\n",
       "      <td>Mobile</td>\n",
       "    </tr>\n",
       "    <tr>\n",
       "      <th>2</th>\n",
       "      <td>1690</td>\n",
       "      <td>Health</td>\n",
       "    </tr>\n",
       "  </tbody>\n",
       "</table>\n",
       "</div>"
      ],
      "text/plain": [
       "   COUNT INSURANCE_TYPE\n",
       "0   1692       Property\n",
       "1   1692         Mobile\n",
       "2   1690         Health"
      ]
     },
     "execution_count": 14,
     "metadata": {},
     "output_type": "execute_result"
    }
   ],
   "source": [
    "insurance_type = pd.DataFrame(df['INSURANCE_TYPE'].value_counts()[:3])\n",
    "insurance_type.columns = ['COUNT']\n",
    "insurance_type['INSURANCE_TYPE'] = insurance_type.index\n",
    "insurance_type.reset_index(drop= True, inplace= True) # dropping the index column\n",
    "insurance_type"
   ]
  },
  {
   "cell_type": "code",
   "execution_count": 15,
   "id": "69cbe850",
   "metadata": {},
   "outputs": [
    {
     "data": {
      "image/png": "[encoded data removed]",
      "text/plain": [
       "<Figure size 1000x800 with 1 Axes>"
      ]
     },
     "metadata": {},
     "output_type": "display_data"
    }
   ],
   "source": [
    "barplot('COUNT', 'INSURANCE_TYPE', insurance_type, \n",
    "        \"Top 3 Insurance Type that are getting most insurance claims\", \"Set2\")"
   ]
  },
  {
   "cell_type": "code",
   "execution_count": 16,
   "id": "adf17702",
   "metadata": {},
   "outputs": [],
   "source": [
    "# TASK 3 \n"
   ]
  },
  {
   "cell_type": "code",
   "execution_count": 17,
   "id": "49bc8c23",
   "metadata": {},
   "outputs": [],
   "source": [
    "#top 3 insurance type where we are getting most insureance claims."
   ]
  },
  {
   "cell_type": "code",
   "execution_count": 18,
   "id": "90bf54f1",
   "metadata": {
    "scrolled": true
   },
   "outputs": [
    {
     "data": {
      "text/html": [
       "<div>\n",
       "<style scoped>\n",
       "    .dataframe tbody tr th:only-of-type {\n",
       "        vertical-align: middle;\n",
       "    }\n",
       "\n",
       "    .dataframe tbody tr th {\n",
       "        vertical-align: top;\n",
       "    }\n",
       "\n",
       "    .dataframe thead th {\n",
       "        text-align: right;\n",
       "    }\n",
       "</style>\n",
       "<table border=\"1\" class=\"dataframe\">\n",
       "  <thead>\n",
       "    <tr style=\"text-align: right;\">\n",
       "      <th></th>\n",
       "      <th>INSURANCE_TYPE</th>\n",
       "      <th>CLAIM_AMOUNT</th>\n",
       "    </tr>\n",
       "  </thead>\n",
       "  <tbody>\n",
       "    <tr>\n",
       "      <th>2</th>\n",
       "      <td>Mobile</td>\n",
       "      <td>1692</td>\n",
       "    </tr>\n",
       "    <tr>\n",
       "      <th>4</th>\n",
       "      <td>Property</td>\n",
       "      <td>1692</td>\n",
       "    </tr>\n",
       "    <tr>\n",
       "      <th>0</th>\n",
       "      <td>Health</td>\n",
       "      <td>1690</td>\n",
       "    </tr>\n",
       "    <tr>\n",
       "      <th>1</th>\n",
       "      <td>Life</td>\n",
       "      <td>1682</td>\n",
       "    </tr>\n",
       "    <tr>\n",
       "      <th>5</th>\n",
       "      <td>Travel</td>\n",
       "      <td>1670</td>\n",
       "    </tr>\n",
       "    <tr>\n",
       "      <th>3</th>\n",
       "      <td>Motor</td>\n",
       "      <td>1574</td>\n",
       "    </tr>\n",
       "  </tbody>\n",
       "</table>\n",
       "</div>"
      ],
      "text/plain": [
       "  INSURANCE_TYPE  CLAIM_AMOUNT\n",
       "2         Mobile          1692\n",
       "4       Property          1692\n",
       "0         Health          1690\n",
       "1           Life          1682\n",
       "5         Travel          1670\n",
       "3          Motor          1574"
      ]
     },
     "execution_count": 18,
     "metadata": {},
     "output_type": "execute_result"
    }
   ],
   "source": [
    "df.groupby('INSURANCE_TYPE')['CLAIM_AMOUNT'].count().reset_index().sort_values('CLAIM_AMOUNT',ascending=False)\n",
    "\n"
   ]
  },
  {
   "cell_type": "code",
   "execution_count": 19,
   "id": "8222e87a",
   "metadata": {},
   "outputs": [],
   "source": [
    "# TASK 4\n"
   ]
  },
  {
   "cell_type": "code",
   "execution_count": 20,
   "id": "b169e725",
   "metadata": {},
   "outputs": [],
   "source": [
    "#Top 5 states where we are getting most insurance claims for customers belonging to high(H) risk segment."
   ]
  },
  {
   "cell_type": "code",
   "execution_count": 21,
   "id": "f6a8d069",
   "metadata": {
    "scrolled": true
   },
   "outputs": [
    {
     "data": {
      "text/html": [
       "<div>\n",
       "<style scoped>\n",
       "    .dataframe tbody tr th:only-of-type {\n",
       "        vertical-align: middle;\n",
       "    }\n",
       "\n",
       "    .dataframe tbody tr th {\n",
       "        vertical-align: top;\n",
       "    }\n",
       "\n",
       "    .dataframe thead th {\n",
       "        text-align: right;\n",
       "    }\n",
       "</style>\n",
       "<table border=\"1\" class=\"dataframe\">\n",
       "  <thead>\n",
       "    <tr style=\"text-align: right;\">\n",
       "      <th></th>\n",
       "      <th>COUNT</th>\n",
       "      <th>STATES</th>\n",
       "    </tr>\n",
       "  </thead>\n",
       "  <tbody>\n",
       "    <tr>\n",
       "      <th>0</th>\n",
       "      <td>148</td>\n",
       "      <td>CA</td>\n",
       "    </tr>\n",
       "    <tr>\n",
       "      <th>1</th>\n",
       "      <td>105</td>\n",
       "      <td>AZ</td>\n",
       "    </tr>\n",
       "    <tr>\n",
       "      <th>2</th>\n",
       "      <td>104</td>\n",
       "      <td>FL</td>\n",
       "    </tr>\n",
       "    <tr>\n",
       "      <th>3</th>\n",
       "      <td>100</td>\n",
       "      <td>TN</td>\n",
       "    </tr>\n",
       "    <tr>\n",
       "      <th>4</th>\n",
       "      <td>97</td>\n",
       "      <td>AR</td>\n",
       "    </tr>\n",
       "  </tbody>\n",
       "</table>\n",
       "</div>"
      ],
      "text/plain": [
       "   COUNT STATES\n",
       "0    148     CA\n",
       "1    105     AZ\n",
       "2    104     FL\n",
       "3    100     TN\n",
       "4     97     AR"
      ]
     },
     "execution_count": 21,
     "metadata": {},
     "output_type": "execute_result"
    }
   ],
   "source": [
    "high_risk_seg = df.loc[df['RISK_SEGMENTATION'] == 'H']\n",
    "\n",
    "high_risk_states = pd.DataFrame(high_risk_seg['STATE_y'].value_counts()[:5])\n",
    "high_risk_states.columns = ['COUNT']\n",
    "high_risk_states['STATES'] = high_risk_states.index\n",
    "high_risk_states.reset_index(drop= True, inplace= True)\n",
    "high_risk_states"
   ]
  },
  {
   "cell_type": "code",
   "execution_count": 22,
   "id": "9db712df",
   "metadata": {},
   "outputs": [
    {
     "data": {
      "image/png": "[encoded data removed]",
      "text/plain": [
       "<Figure size 1000x800 with 1 Axes>"
      ]
     },
     "metadata": {},
     "output_type": "display_data"
    }
   ],
   "source": [
    "barplot('COUNT', 'STATES', high_risk_states, \n",
    "        \"Top 5 States that are getting most insurance claims for customer belonging to HIGH(H) risk segment\", \n",
    "        'pastel')"
   ]
  },
  {
   "cell_type": "code",
   "execution_count": 23,
   "id": "0571684c",
   "metadata": {},
   "outputs": [],
   "source": [
    "# TASK 5"
   ]
  },
  {
   "cell_type": "code",
   "execution_count": 24,
   "id": "0474955e",
   "metadata": {},
   "outputs": [],
   "source": [
    "#Business wants to find suspicious agents.\n",
    "#if 'CLAIM_STATUS'=='Approved' and 'RISK+SEGMENTATION'=='high' and 'INCIDENT_SEVERITY'=='Major_Loss'\n",
    "#IF suspicious ten 1 else 0."
   ]
  },
  {
   "cell_type": "code",
   "execution_count": 25,
   "id": "ee48db87",
   "metadata": {},
   "outputs": [
    {
     "data": {
      "text/html": [
       "<div>\n",
       "<style scoped>\n",
       "    .dataframe tbody tr th:only-of-type {\n",
       "        vertical-align: middle;\n",
       "    }\n",
       "\n",
       "    .dataframe tbody tr th {\n",
       "        vertical-align: top;\n",
       "    }\n",
       "\n",
       "    .dataframe thead th {\n",
       "        text-align: right;\n",
       "    }\n",
       "</style>\n",
       "<table border=\"1\" class=\"dataframe\">\n",
       "  <thead>\n",
       "    <tr style=\"text-align: right;\">\n",
       "      <th></th>\n",
       "      <th>CLAIM_STATUS</th>\n",
       "      <th>RISK_SEGMENTATION</th>\n",
       "      <th>INCIDENT_SEVERITY</th>\n",
       "    </tr>\n",
       "  </thead>\n",
       "  <tbody>\n",
       "    <tr>\n",
       "      <th>0</th>\n",
       "      <td>A</td>\n",
       "      <td>L</td>\n",
       "      <td>Minor Loss</td>\n",
       "    </tr>\n",
       "    <tr>\n",
       "      <th>1</th>\n",
       "      <td>A</td>\n",
       "      <td>L</td>\n",
       "      <td>Total Loss</td>\n",
       "    </tr>\n",
       "    <tr>\n",
       "      <th>2</th>\n",
       "      <td>A</td>\n",
       "      <td>H</td>\n",
       "      <td>Major Loss</td>\n",
       "    </tr>\n",
       "    <tr>\n",
       "      <th>3</th>\n",
       "      <td>A</td>\n",
       "      <td>H</td>\n",
       "      <td>Total Loss</td>\n",
       "    </tr>\n",
       "    <tr>\n",
       "      <th>4</th>\n",
       "      <td>A</td>\n",
       "      <td>H</td>\n",
       "      <td>Minor Loss</td>\n",
       "    </tr>\n",
       "  </tbody>\n",
       "</table>\n",
       "</div>"
      ],
      "text/plain": [
       "  CLAIM_STATUS RISK_SEGMENTATION INCIDENT_SEVERITY\n",
       "0            A                 L        Minor Loss\n",
       "1            A                 L        Total Loss\n",
       "2            A                 H        Major Loss\n",
       "3            A                 H        Total Loss\n",
       "4            A                 H        Minor Loss"
      ]
     },
     "execution_count": 25,
     "metadata": {},
     "output_type": "execute_result"
    }
   ],
   "source": [
    "df[['CLAIM_STATUS','RISK_SEGMENTATION','INCIDENT_SEVERITY']].head()\n"
   ]
  },
  {
   "cell_type": "code",
   "execution_count": 26,
   "id": "2ca07831",
   "metadata": {},
   "outputs": [],
   "source": [
    "sus = df[(df['CLAIM_STATUS'] == 'A') & (df['RISK_SEGMENTATION'] == 'H') & (df['INCIDENT_SEVERITY'] == 'Major Loss')]"
   ]
  },
  {
   "cell_type": "code",
   "execution_count": 27,
   "id": "2203c863",
   "metadata": {},
   "outputs": [],
   "source": [
    "cond1 = [\n",
    "    sus['CLAIM_AMOUNT'] >= 15000\n",
    "]\n",
    "values1 = [1]"
   ]
  },
  {
   "cell_type": "code",
   "execution_count": 28,
   "id": "fe8f742a",
   "metadata": {},
   "outputs": [
    {
     "name": "stderr",
     "output_type": "stream",
     "text": [
      "C:\\Users\\muski\\AppData\\Local\\Temp\\ipykernel_42960\\3796447296.py:1: SettingWithCopyWarning: \n",
      "A value is trying to be set on a copy of a slice from a DataFrame.\n",
      "Try using .loc[row_indexer,col_indexer] = value instead\n",
      "\n",
      "See the caveats in the documentation: https://pandas.pydata.org/pandas-docs/stable/user_guide/indexing.html#returning-a-view-versus-a-copy\n",
      "  sus.loc[:, 'SUSPICIOUS'] = np.select(cond1, values1)\n"
     ]
    }
   ],
   "source": [
    "sus.loc[:, 'SUSPICIOUS'] = np.select(cond1, values1)"
   ]
  },
  {
   "cell_type": "code",
   "execution_count": 29,
   "id": "acfa72d7",
   "metadata": {},
   "outputs": [],
   "source": [
    "# suspicious agents are 1 and non_suspicious are 0 based on claim amount."
   ]
  },
  {
   "cell_type": "code",
   "execution_count": 30,
   "id": "ebbd4741",
   "metadata": {},
   "outputs": [
    {
     "data": {
      "text/html": [
       "<div>\n",
       "<style scoped>\n",
       "    .dataframe tbody tr th:only-of-type {\n",
       "        vertical-align: middle;\n",
       "    }\n",
       "\n",
       "    .dataframe tbody tr th {\n",
       "        vertical-align: top;\n",
       "    }\n",
       "\n",
       "    .dataframe thead th {\n",
       "        text-align: right;\n",
       "    }\n",
       "</style>\n",
       "<table border=\"1\" class=\"dataframe\">\n",
       "  <thead>\n",
       "    <tr style=\"text-align: right;\">\n",
       "      <th></th>\n",
       "      <th>AGENT_NAME</th>\n",
       "      <th>CLAIM_AMOUNT</th>\n",
       "      <th>SUSPICIOUS</th>\n",
       "    </tr>\n",
       "  </thead>\n",
       "  <tbody>\n",
       "    <tr>\n",
       "      <th>2</th>\n",
       "      <td>Ray Johns</td>\n",
       "      <td>39000</td>\n",
       "      <td>1</td>\n",
       "    </tr>\n",
       "    <tr>\n",
       "      <th>19</th>\n",
       "      <td>Candy Spellman</td>\n",
       "      <td>44000</td>\n",
       "      <td>1</td>\n",
       "    </tr>\n",
       "    <tr>\n",
       "      <th>59</th>\n",
       "      <td>Michael Hoskins</td>\n",
       "      <td>3000</td>\n",
       "      <td>0</td>\n",
       "    </tr>\n",
       "    <tr>\n",
       "      <th>84</th>\n",
       "      <td>Nancy Coronado</td>\n",
       "      <td>200</td>\n",
       "      <td>0</td>\n",
       "    </tr>\n",
       "    <tr>\n",
       "      <th>90</th>\n",
       "      <td>Nancy Coronado</td>\n",
       "      <td>10000</td>\n",
       "      <td>0</td>\n",
       "    </tr>\n",
       "    <tr>\n",
       "      <th>97</th>\n",
       "      <td>Nancy Coronado</td>\n",
       "      <td>38000</td>\n",
       "      <td>1</td>\n",
       "    </tr>\n",
       "    <tr>\n",
       "      <th>116</th>\n",
       "      <td>Carolyn Jones</td>\n",
       "      <td>1000</td>\n",
       "      <td>0</td>\n",
       "    </tr>\n",
       "    <tr>\n",
       "      <th>146</th>\n",
       "      <td>Rita Allaire</td>\n",
       "      <td>200</td>\n",
       "      <td>0</td>\n",
       "    </tr>\n",
       "    <tr>\n",
       "      <th>150</th>\n",
       "      <td>Rita Allaire</td>\n",
       "      <td>100</td>\n",
       "      <td>0</td>\n",
       "    </tr>\n",
       "    <tr>\n",
       "      <th>166</th>\n",
       "      <td>Robert Barnes</td>\n",
       "      <td>20000</td>\n",
       "      <td>1</td>\n",
       "    </tr>\n",
       "    <tr>\n",
       "      <th>170</th>\n",
       "      <td>Robert Barnes</td>\n",
       "      <td>45000</td>\n",
       "      <td>1</td>\n",
       "    </tr>\n",
       "    <tr>\n",
       "      <th>174</th>\n",
       "      <td>Jeffery Mcbride</td>\n",
       "      <td>200</td>\n",
       "      <td>0</td>\n",
       "    </tr>\n",
       "    <tr>\n",
       "      <th>214</th>\n",
       "      <td>Josephine Amorosi</td>\n",
       "      <td>400</td>\n",
       "      <td>0</td>\n",
       "    </tr>\n",
       "    <tr>\n",
       "      <th>309</th>\n",
       "      <td>Gregory Williamson</td>\n",
       "      <td>3000</td>\n",
       "      <td>0</td>\n",
       "    </tr>\n",
       "    <tr>\n",
       "      <th>314</th>\n",
       "      <td>Gregory Williamson</td>\n",
       "      <td>4000</td>\n",
       "      <td>0</td>\n",
       "    </tr>\n",
       "  </tbody>\n",
       "</table>\n",
       "</div>"
      ],
      "text/plain": [
       "             AGENT_NAME  CLAIM_AMOUNT  SUSPICIOUS\n",
       "2             Ray Johns         39000           1\n",
       "19       Candy Spellman         44000           1\n",
       "59      Michael Hoskins          3000           0\n",
       "84       Nancy Coronado           200           0\n",
       "90       Nancy Coronado         10000           0\n",
       "97       Nancy Coronado         38000           1\n",
       "116       Carolyn Jones          1000           0\n",
       "146        Rita Allaire           200           0\n",
       "150        Rita Allaire           100           0\n",
       "166       Robert Barnes         20000           1\n",
       "170       Robert Barnes         45000           1\n",
       "174     Jeffery Mcbride           200           0\n",
       "214   Josephine Amorosi           400           0\n",
       "309  Gregory Williamson          3000           0\n",
       "314  Gregory Williamson          4000           0"
      ]
     },
     "execution_count": 30,
     "metadata": {},
     "output_type": "execute_result"
    }
   ],
   "source": [
    "sus[['AGENT_NAME','CLAIM_AMOUNT','SUSPICIOUS']].head(15)"
   ]
  },
  {
   "cell_type": "code",
   "execution_count": 31,
   "id": "80b59b7f",
   "metadata": {},
   "outputs": [],
   "source": [
    "#Task 6"
   ]
  },
  {
   "cell_type": "code",
   "execution_count": 32,
   "id": "4f53411c",
   "metadata": {},
   "outputs": [],
   "source": [
    "#“COLOCATION” \n",
    "#which will have following values IF Customer State == Incident State == \n",
    "#Agent Address State THEN 1 ELSE 0 Find the mean of this new column"
   ]
  },
  {
   "cell_type": "code",
   "execution_count": 33,
   "id": "675bcbbf",
   "metadata": {},
   "outputs": [],
   "source": [
    "df['COLOCATION']=np.where((df['STATE_y']==df['INCIDENT_STATE'])&(df['STATE_y']==df['STATE_x']),1,0)"
   ]
  },
  {
   "cell_type": "code",
   "execution_count": 34,
   "id": "4d0480b1",
   "metadata": {
    "scrolled": true
   },
   "outputs": [
    {
     "data": {
      "text/html": [
       "<div>\n",
       "<style scoped>\n",
       "    .dataframe tbody tr th:only-of-type {\n",
       "        vertical-align: middle;\n",
       "    }\n",
       "\n",
       "    .dataframe tbody tr th {\n",
       "        vertical-align: top;\n",
       "    }\n",
       "\n",
       "    .dataframe thead th {\n",
       "        text-align: right;\n",
       "    }\n",
       "</style>\n",
       "<table border=\"1\" class=\"dataframe\">\n",
       "  <thead>\n",
       "    <tr style=\"text-align: right;\">\n",
       "      <th></th>\n",
       "      <th>COLOCATION</th>\n",
       "      <th>STATE_y</th>\n",
       "      <th>INCIDENT_STATE</th>\n",
       "      <th>STATE_x</th>\n",
       "    </tr>\n",
       "  </thead>\n",
       "  <tbody>\n",
       "    <tr>\n",
       "      <th>522</th>\n",
       "      <td>1</td>\n",
       "      <td>AZ</td>\n",
       "      <td>AZ</td>\n",
       "      <td>AZ</td>\n",
       "    </tr>\n",
       "    <tr>\n",
       "      <th>715</th>\n",
       "      <td>1</td>\n",
       "      <td>KY</td>\n",
       "      <td>KY</td>\n",
       "      <td>KY</td>\n",
       "    </tr>\n",
       "    <tr>\n",
       "      <th>946</th>\n",
       "      <td>1</td>\n",
       "      <td>CT</td>\n",
       "      <td>CT</td>\n",
       "      <td>CT</td>\n",
       "    </tr>\n",
       "    <tr>\n",
       "      <th>1080</th>\n",
       "      <td>1</td>\n",
       "      <td>CA</td>\n",
       "      <td>CA</td>\n",
       "      <td>CA</td>\n",
       "    </tr>\n",
       "    <tr>\n",
       "      <th>1313</th>\n",
       "      <td>1</td>\n",
       "      <td>DC</td>\n",
       "      <td>DC</td>\n",
       "      <td>DC</td>\n",
       "    </tr>\n",
       "  </tbody>\n",
       "</table>\n",
       "</div>"
      ],
      "text/plain": [
       "      COLOCATION STATE_y INCIDENT_STATE STATE_x\n",
       "522            1      AZ             AZ      AZ\n",
       "715            1      KY             KY      KY\n",
       "946            1      CT             CT      CT\n",
       "1080           1      CA             CA      CA\n",
       "1313           1      DC             DC      DC"
      ]
     },
     "execution_count": 34,
     "metadata": {},
     "output_type": "execute_result"
    }
   ],
   "source": [
    "df2=df.loc[(df['COLOCATION'] != 0)].head()\n",
    "df2[['COLOCATION','STATE_y','INCIDENT_STATE','STATE_x']].head()"
   ]
  },
  {
   "cell_type": "code",
   "execution_count": 35,
   "id": "8ded6a47",
   "metadata": {},
   "outputs": [],
   "source": [
    "# Task 7"
   ]
  },
  {
   "cell_type": "code",
   "execution_count": 36,
   "id": "4f35d6ef",
   "metadata": {},
   "outputs": [],
   "source": [
    "# For any claim transaction \n",
    "# “AUTHORITY_CONTACTED” is NOT “Police” and POLICE_AVAILABLE == 1 \n",
    "# Then Update “AUTHORITY_CONTACTED” to Police."
   ]
  },
  {
   "cell_type": "code",
   "execution_count": 37,
   "id": "9c185079",
   "metadata": {},
   "outputs": [],
   "source": [
    "df.loc[(df['AUTHORITY_CONTACTED'] != 'Police') & (df['POLICE_REPORT_AVAILABLE'] == 1), 'AUTHORITY_CONTACTED'] = 'Police'"
   ]
  },
  {
   "cell_type": "code",
   "execution_count": 38,
   "id": "2ad4c9b7",
   "metadata": {},
   "outputs": [
    {
     "data": {
      "text/html": [
       "<div>\n",
       "<style scoped>\n",
       "    .dataframe tbody tr th:only-of-type {\n",
       "        vertical-align: middle;\n",
       "    }\n",
       "\n",
       "    .dataframe tbody tr th {\n",
       "        vertical-align: top;\n",
       "    }\n",
       "\n",
       "    .dataframe thead th {\n",
       "        text-align: right;\n",
       "    }\n",
       "</style>\n",
       "<table border=\"1\" class=\"dataframe\">\n",
       "  <thead>\n",
       "    <tr style=\"text-align: right;\">\n",
       "      <th></th>\n",
       "      <th>AUTHORITY_CONTACTED</th>\n",
       "      <th>POLICE_REPORT_AVAILABLE</th>\n",
       "    </tr>\n",
       "  </thead>\n",
       "  <tbody>\n",
       "    <tr>\n",
       "      <th>0</th>\n",
       "      <td>Police</td>\n",
       "      <td>1</td>\n",
       "    </tr>\n",
       "    <tr>\n",
       "      <th>1</th>\n",
       "      <td>Police</td>\n",
       "      <td>1</td>\n",
       "    </tr>\n",
       "    <tr>\n",
       "      <th>2</th>\n",
       "      <td>Police</td>\n",
       "      <td>1</td>\n",
       "    </tr>\n",
       "    <tr>\n",
       "      <th>3</th>\n",
       "      <td>Police</td>\n",
       "      <td>1</td>\n",
       "    </tr>\n",
       "    <tr>\n",
       "      <th>4</th>\n",
       "      <td>Police</td>\n",
       "      <td>1</td>\n",
       "    </tr>\n",
       "    <tr>\n",
       "      <th>5</th>\n",
       "      <td>Police</td>\n",
       "      <td>1</td>\n",
       "    </tr>\n",
       "    <tr>\n",
       "      <th>6</th>\n",
       "      <td>Police</td>\n",
       "      <td>1</td>\n",
       "    </tr>\n",
       "    <tr>\n",
       "      <th>7</th>\n",
       "      <td>Police</td>\n",
       "      <td>1</td>\n",
       "    </tr>\n",
       "    <tr>\n",
       "      <th>8</th>\n",
       "      <td>Police</td>\n",
       "      <td>1</td>\n",
       "    </tr>\n",
       "    <tr>\n",
       "      <th>9</th>\n",
       "      <td>Police</td>\n",
       "      <td>1</td>\n",
       "    </tr>\n",
       "  </tbody>\n",
       "</table>\n",
       "</div>"
      ],
      "text/plain": [
       "  AUTHORITY_CONTACTED  POLICE_REPORT_AVAILABLE\n",
       "0              Police                        1\n",
       "1              Police                        1\n",
       "2              Police                        1\n",
       "3              Police                        1\n",
       "4              Police                        1\n",
       "5              Police                        1\n",
       "6              Police                        1\n",
       "7              Police                        1\n",
       "8              Police                        1\n",
       "9              Police                        1"
      ]
     },
     "execution_count": 38,
     "metadata": {},
     "output_type": "execute_result"
    }
   ],
   "source": [
    "df[['AUTHORITY_CONTACTED', 'POLICE_REPORT_AVAILABLE']].head(10)"
   ]
  },
  {
   "cell_type": "code",
   "execution_count": 39,
   "id": "565e14db",
   "metadata": {},
   "outputs": [
    {
     "data": {
      "text/plain": [
       "AUTHORITY_CONTACTED\n",
       "Police       7852\n",
       "Ambulance    1261\n",
       "Other         309\n",
       "Name: count, dtype: int64"
      ]
     },
     "execution_count": 39,
     "metadata": {},
     "output_type": "execute_result"
    }
   ],
   "source": [
    "df.AUTHORITY_CONTACTED.value_counts()"
   ]
  },
  {
   "cell_type": "code",
   "execution_count": 40,
   "id": "3caabe81",
   "metadata": {},
   "outputs": [],
   "source": [
    "# Task 8"
   ]
  },
  {
   "cell_type": "code",
   "execution_count": 41,
   "id": "df459547",
   "metadata": {},
   "outputs": [],
   "source": [
    "# Find All Agents who have worked on more than 2 types of Insurance Claims. \n",
    "# Sort them by Total Claim Amount Approved under them in descending order"
   ]
  },
  {
   "cell_type": "code",
   "execution_count": 42,
   "id": "044c5bd8",
   "metadata": {},
   "outputs": [],
   "source": [
    "Aworks = df.groupby(\n",
    "    ['AGENT_ID', 'AGENT_NAME', 'CLAIM_AMOUNT'])['INSURANCE_TYPE'].count().reset_index().sort_values('INSURANCE_TYPE', ascending= False)"
   ]
  },
  {
   "cell_type": "code",
   "execution_count": 43,
   "id": "62bbf600",
   "metadata": {
    "scrolled": true
   },
   "outputs": [
    {
     "data": {
      "text/html": [
       "<div>\n",
       "<style scoped>\n",
       "    .dataframe tbody tr th:only-of-type {\n",
       "        vertical-align: middle;\n",
       "    }\n",
       "\n",
       "    .dataframe tbody tr th {\n",
       "        vertical-align: top;\n",
       "    }\n",
       "\n",
       "    .dataframe thead th {\n",
       "        text-align: right;\n",
       "    }\n",
       "</style>\n",
       "<table border=\"1\" class=\"dataframe\">\n",
       "  <thead>\n",
       "    <tr style=\"text-align: right;\">\n",
       "      <th></th>\n",
       "      <th>AGENT_ID</th>\n",
       "      <th>AGENT_NAME</th>\n",
       "      <th>CLAIM_AMOUNT</th>\n",
       "      <th>INSURANCE_TYPE</th>\n",
       "    </tr>\n",
       "  </thead>\n",
       "  <tbody>\n",
       "    <tr>\n",
       "      <th>5429</th>\n",
       "      <td>AGENT00723</td>\n",
       "      <td>Thomas Phariss</td>\n",
       "      <td>5000</td>\n",
       "      <td>4</td>\n",
       "    </tr>\n",
       "    <tr>\n",
       "      <th>2909</th>\n",
       "      <td>AGENT00385</td>\n",
       "      <td>Sarah Pearce</td>\n",
       "      <td>5000</td>\n",
       "      <td>4</td>\n",
       "    </tr>\n",
       "    <tr>\n",
       "      <th>3002</th>\n",
       "      <td>AGENT00396</td>\n",
       "      <td>Majorie Holt</td>\n",
       "      <td>3000</td>\n",
       "      <td>4</td>\n",
       "    </tr>\n",
       "    <tr>\n",
       "      <th>1081</th>\n",
       "      <td>AGENT00147</td>\n",
       "      <td>Brian Webb</td>\n",
       "      <td>700</td>\n",
       "      <td>4</td>\n",
       "    </tr>\n",
       "    <tr>\n",
       "      <th>1666</th>\n",
       "      <td>AGENT00224</td>\n",
       "      <td>Evelyn Ortiz</td>\n",
       "      <td>3000</td>\n",
       "      <td>4</td>\n",
       "    </tr>\n",
       "  </tbody>\n",
       "</table>\n",
       "</div>"
      ],
      "text/plain": [
       "        AGENT_ID      AGENT_NAME  CLAIM_AMOUNT  INSURANCE_TYPE\n",
       "5429  AGENT00723  Thomas Phariss          5000               4\n",
       "2909  AGENT00385    Sarah Pearce          5000               4\n",
       "3002  AGENT00396    Majorie Holt          3000               4\n",
       "1081  AGENT00147      Brian Webb           700               4\n",
       "1666  AGENT00224    Evelyn Ortiz          3000               4"
      ]
     },
     "execution_count": 43,
     "metadata": {},
     "output_type": "execute_result"
    }
   ],
   "source": [
    "Aworks.head()"
   ]
  },
  {
   "cell_type": "code",
   "execution_count": 44,
   "id": "0ec58995",
   "metadata": {},
   "outputs": [
    {
     "data": {
      "text/html": [
       "<div>\n",
       "<style scoped>\n",
       "    .dataframe tbody tr th:only-of-type {\n",
       "        vertical-align: middle;\n",
       "    }\n",
       "\n",
       "    .dataframe tbody tr th {\n",
       "        vertical-align: top;\n",
       "    }\n",
       "\n",
       "    .dataframe thead th {\n",
       "        text-align: right;\n",
       "    }\n",
       "</style>\n",
       "<table border=\"1\" class=\"dataframe\">\n",
       "  <thead>\n",
       "    <tr style=\"text-align: right;\">\n",
       "      <th></th>\n",
       "      <th>AGENT_ID</th>\n",
       "      <th>AGENT_NAME</th>\n",
       "      <th>CLAIM_AMOUNT</th>\n",
       "      <th>INSURANCE_TYPE</th>\n",
       "    </tr>\n",
       "  </thead>\n",
       "  <tbody>\n",
       "    <tr>\n",
       "      <th>3149</th>\n",
       "      <td>AGENT00414</td>\n",
       "      <td>Christine Carter</td>\n",
       "      <td>38000</td>\n",
       "      <td>1</td>\n",
       "    </tr>\n",
       "    <tr>\n",
       "      <th>3148</th>\n",
       "      <td>AGENT00414</td>\n",
       "      <td>Christine Carter</td>\n",
       "      <td>26000</td>\n",
       "      <td>1</td>\n",
       "    </tr>\n",
       "    <tr>\n",
       "      <th>3147</th>\n",
       "      <td>AGENT00414</td>\n",
       "      <td>Christine Carter</td>\n",
       "      <td>20000</td>\n",
       "      <td>1</td>\n",
       "    </tr>\n",
       "    <tr>\n",
       "      <th>3146</th>\n",
       "      <td>AGENT00414</td>\n",
       "      <td>Christine Carter</td>\n",
       "      <td>18000</td>\n",
       "      <td>1</td>\n",
       "    </tr>\n",
       "    <tr>\n",
       "      <th>8942</th>\n",
       "      <td>AGENT01200</td>\n",
       "      <td>Virginia Stachura</td>\n",
       "      <td>56000</td>\n",
       "      <td>1</td>\n",
       "    </tr>\n",
       "  </tbody>\n",
       "</table>\n",
       "</div>"
      ],
      "text/plain": [
       "        AGENT_ID         AGENT_NAME  CLAIM_AMOUNT  INSURANCE_TYPE\n",
       "3149  AGENT00414   Christine Carter         38000               1\n",
       "3148  AGENT00414   Christine Carter         26000               1\n",
       "3147  AGENT00414   Christine Carter         20000               1\n",
       "3146  AGENT00414   Christine Carter         18000               1\n",
       "8942  AGENT01200  Virginia Stachura         56000               1"
      ]
     },
     "execution_count": 44,
     "metadata": {},
     "output_type": "execute_result"
    }
   ],
   "source": [
    "Aworks.tail()"
   ]
  },
  {
   "cell_type": "code",
   "execution_count": 45,
   "id": "3946a349",
   "metadata": {},
   "outputs": [],
   "source": [
    "# Task 9"
   ]
  },
  {
   "cell_type": "code",
   "execution_count": 46,
   "id": "3a2e4693",
   "metadata": {},
   "outputs": [],
   "source": [
    "# Top 3 Insurance Type where we are getting most insurance claims in amounts"
   ]
  },
  {
   "cell_type": "code",
   "execution_count": 47,
   "id": "04b176f7",
   "metadata": {},
   "outputs": [
    {
     "data": {
      "text/html": [
       "<div>\n",
       "<style scoped>\n",
       "    .dataframe tbody tr th:only-of-type {\n",
       "        vertical-align: middle;\n",
       "    }\n",
       "\n",
       "    .dataframe tbody tr th {\n",
       "        vertical-align: top;\n",
       "    }\n",
       "\n",
       "    .dataframe thead th {\n",
       "        text-align: right;\n",
       "    }\n",
       "</style>\n",
       "<table border=\"1\" class=\"dataframe\">\n",
       "  <thead>\n",
       "    <tr style=\"text-align: right;\">\n",
       "      <th></th>\n",
       "      <th>COUNT</th>\n",
       "      <th>INSURANCE_TYPE</th>\n",
       "    </tr>\n",
       "  </thead>\n",
       "  <tbody>\n",
       "    <tr>\n",
       "      <th>0</th>\n",
       "      <td>91478000</td>\n",
       "      <td>Life</td>\n",
       "    </tr>\n",
       "    <tr>\n",
       "      <th>1</th>\n",
       "      <td>41579000</td>\n",
       "      <td>Property</td>\n",
       "    </tr>\n",
       "    <tr>\n",
       "      <th>2</th>\n",
       "      <td>18254000</td>\n",
       "      <td>Health</td>\n",
       "    </tr>\n",
       "  </tbody>\n",
       "</table>\n",
       "</div>"
      ],
      "text/plain": [
       "      COUNT INSURANCE_TYPE\n",
       "0  91478000           Life\n",
       "1  41579000       Property\n",
       "2  18254000         Health"
      ]
     },
     "execution_count": 47,
     "metadata": {},
     "output_type": "execute_result"
    }
   ],
   "source": [
    "insurance_type =pd.DataFrame(df.groupby('INSURANCE_TYPE')\n",
    "             ['CLAIM_AMOUNT'].sum()).sort_values(by='CLAIM_AMOUNT', ascending=False).head(3)\n",
    "insurance_type.columns = ['COUNT']\n",
    "insurance_type['INSURANCE_TYPE'] = insurance_type.index\n",
    "insurance_type.reset_index(drop= True, inplace= True) # dropping the index column\n",
    "insurance_type"
   ]
  },
  {
   "cell_type": "code",
   "execution_count": 48,
   "id": "315caed0",
   "metadata": {},
   "outputs": [
    {
     "data": {
      "image/png": "[encoded data removed]",
      "text/plain": [
       "<Figure size 1000x800 with 1 Axes>"
      ]
     },
     "metadata": {},
     "output_type": "display_data"
    }
   ],
   "source": [
    "barplot('COUNT', 'INSURANCE_TYPE', insurance_type, \n",
    "        \"Top 3 Insurance Type where we are getting most insurance claims amount\", \"Set2\")"
   ]
  },
  {
   "cell_type": "code",
   "execution_count": 49,
   "id": "63d5c9f5",
   "metadata": {},
   "outputs": [],
   "source": [
    "# Task 10 "
   ]
  },
  {
   "cell_type": "code",
   "execution_count": 50,
   "id": "f5713945",
   "metadata": {},
   "outputs": [],
   "source": [
    "#Simple regression model to predict Insurance premiums based on some features. \n",
    "#We'll use the scikit-learn library for this purpose."
   ]
  },
  {
   "cell_type": "code",
   "execution_count": 51,
   "id": "9238be2d",
   "metadata": {},
   "outputs": [],
   "source": [
    "X = insurance_data[['AGE', 'NO_OF_FAMILY_MEMBERS', 'TENURE']]\n",
    "y = insurance_data['CLAIM_AMOUNT']"
   ]
  },
  {
   "cell_type": "code",
   "execution_count": 52,
   "id": "7ad90d00",
   "metadata": {},
   "outputs": [],
   "source": [
    "X_train, X_test, y_train, y_test = train_test_split(X, y, test_size=0.2, random_state=42)\n"
   ]
  },
  {
   "cell_type": "code",
   "execution_count": 69,
   "id": "ab73ee06",
   "metadata": {},
   "outputs": [
    {
     "data": {
      "text/html": [
       "<style>#sk-container-id-2 {color: black;}#sk-container-id-2 pre{padding: 0;}#sk-container-id-2 div.sk-toggleable {background-color: white;}#sk-container-id-2 label.sk-toggleable__label {cursor: pointer;display: block;width: 100%;margin-bottom: 0;padding: 0.3em;box-sizing: border-box;text-align: center;}#sk-container-id-2 label.sk-toggleable__label-arrow:before {content: \"▸\";float: left;margin-right: 0.25em;color: #696969;}#sk-container-id-2 label.sk-toggleable__label-arrow:hover:before {color: black;}#sk-container-id-2 div.sk-estimator:hover label.sk-toggleable__label-arrow:before {color: black;}#sk-container-id-2 div.sk-toggleable__content {max-height: 0;max-width: 0;overflow: hidden;text-align: left;background-color: #f0f8ff;}#sk-container-id-2 div.sk-toggleable__content pre {margin: 0.2em;color: black;border-radius: 0.25em;background-color: #f0f8ff;}#sk-container-id-2 input.sk-toggleable__control:checked~div.sk-toggleable__content {max-height: 200px;max-width: 100%;overflow: auto;}#sk-container-id-2 input.sk-toggleable__control:checked~label.sk-toggleable__label-arrow:before {content: \"▾\";}#sk-container-id-2 div.sk-estimator input.sk-toggleable__control:checked~label.sk-toggleable__label {background-color: #d4ebff;}#sk-container-id-2 div.sk-label input.sk-toggleable__control:checked~label.sk-toggleable__label {background-color: #d4ebff;}#sk-container-id-2 input.sk-hidden--visually {border: 0;clip: rect(1px 1px 1px 1px);clip: rect(1px, 1px, 1px, 1px);height: 1px;margin: -1px;overflow: hidden;padding: 0;position: absolute;width: 1px;}#sk-container-id-2 div.sk-estimator {font-family: monospace;background-color: #f0f8ff;border: 1px dotted black;border-radius: 0.25em;box-sizing: border-box;margin-bottom: 0.5em;}#sk-container-id-2 div.sk-estimator:hover {background-color: #d4ebff;}#sk-container-id-2 div.sk-parallel-item::after {content: \"\";width: 100%;border-bottom: 1px solid gray;flex-grow: 1;}#sk-container-id-2 div.sk-label:hover label.sk-toggleable__label {background-color: #d4ebff;}#sk-container-id-2 div.sk-serial::before {content: \"\";position: absolute;border-left: 1px solid gray;box-sizing: border-box;top: 0;bottom: 0;left: 50%;z-index: 0;}#sk-container-id-2 div.sk-serial {display: flex;flex-direction: column;align-items: center;background-color: white;padding-right: 0.2em;padding-left: 0.2em;position: relative;}#sk-container-id-2 div.sk-item {position: relative;z-index: 1;}#sk-container-id-2 div.sk-parallel {display: flex;align-items: stretch;justify-content: center;background-color: white;position: relative;}#sk-container-id-2 div.sk-item::before, #sk-container-id-2 div.sk-parallel-item::before {content: \"\";position: absolute;border-left: 1px solid gray;box-sizing: border-box;top: 0;bottom: 0;left: 50%;z-index: -1;}#sk-container-id-2 div.sk-parallel-item {display: flex;flex-direction: column;z-index: 1;position: relative;background-color: white;}#sk-container-id-2 div.sk-parallel-item:first-child::after {align-self: flex-end;width: 50%;}#sk-container-id-2 div.sk-parallel-item:last-child::after {align-self: flex-start;width: 50%;}#sk-container-id-2 div.sk-parallel-item:only-child::after {width: 0;}#sk-container-id-2 div.sk-dashed-wrapped {border: 1px dashed gray;margin: 0 0.4em 0.5em 0.4em;box-sizing: border-box;padding-bottom: 0.4em;background-color: white;}#sk-container-id-2 div.sk-label label {font-family: monospace;font-weight: bold;display: inline-block;line-height: 1.2em;}#sk-container-id-2 div.sk-label-container {text-align: center;}#sk-container-id-2 div.sk-container {/* jupyter's `normalize.less` sets `[hidden] { display: none; }` but bootstrap.min.css set `[hidden] { display: none !important; }` so we also need the `!important` here to be able to override the default hidden behavior on the sphinx rendered scikit-learn.org. See: https://github.com/scikit-learn/scikit-learn/issues/21755 */display: inline-block !important;position: relative;}#sk-container-id-2 div.sk-text-repr-fallback {display: none;}</style><div id=\"sk-container-id-2\" class=\"sk-top-container\"><div class=\"sk-text-repr-fallback\"><pre>LinearRegression()</pre><b>In a Jupyter environment, please rerun this cell to show the HTML representation or trust the notebook. <br />On GitHub, the HTML representation is unable to render, please try loading this page with nbviewer.org.</b></div><div class=\"sk-container\" hidden><div class=\"sk-item\"><div class=\"sk-estimator sk-toggleable\"><input class=\"sk-toggleable__control sk-hidden--visually\" id=\"sk-estimator-id-2\" type=\"checkbox\" checked><label for=\"sk-estimator-id-2\" class=\"sk-toggleable__label sk-toggleable__label-arrow\">LinearRegression</label><div class=\"sk-toggleable__content\"><pre>LinearRegression()</pre></div></div></div></div></div>"
      ],
      "text/plain": [
       "LinearRegression()"
      ]
     },
     "execution_count": 69,
     "metadata": {},
     "output_type": "execute_result"
    }
   ],
   "source": [
    "model = LinearRegression()\n",
    "model.fit(X_train, y_train)"
   ]
  },
  {
   "cell_type": "code",
   "execution_count": 70,
   "id": "62ee0096",
   "metadata": {},
   "outputs": [],
   "source": [
    "y_pred = model.predict(X_test)\n"
   ]
  },
  {
   "cell_type": "code",
   "execution_count": 71,
   "id": "f3eb748d",
   "metadata": {},
   "outputs": [
    {
     "name": "stdout",
     "output_type": "stream",
     "text": [
      "Mean Absolute Error: 15989.24\n",
      "R-squared (R2): -0.00\n"
     ]
    }
   ],
   "source": [
    "mae = mean_absolute_error(y_test, y_pred)\n",
    "r2 = r2_score(y_test, y_pred)\n",
    "\n",
    "print(f\"Mean Absolute Error: {mae:.2f}\")\n",
    "print(f\"R-squared (R2): {r2:.2f}\")\n"
   ]
  },
  {
   "cell_type": "code",
   "execution_count": null,
   "id": "04cc5a8d",
   "metadata": {},
   "outputs": [],
   "source": []
  }
 ],
 "metadata": {
  "kernelspec": {
   "display_name": "Python 3 (ipykernel)",
   "language": "python",
   "name": "python3"
  },
  "language_info": {
   "codemirror_mode": {
    "name": "ipython",
    "version": 3
   },
   "file_extension": ".py",
   "mimetype": "text/x-python",
   "name": "python",
   "nbconvert_exporter": "python",
   "pygments_lexer": "ipython3",
   "version": "3.11.5"
  }
 },
 "nbformat": 4,
 "nbformat_minor": 5
}
